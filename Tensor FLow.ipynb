{
 "cells": [
  {
   "cell_type": "code",
   "execution_count": 1,
   "id": "9cf476e4",
   "metadata": {},
   "outputs": [],
   "source": [
    "import tensorflow as tf"
   ]
  },
  {
   "cell_type": "code",
   "execution_count": 3,
   "id": "7f7e6bb0",
   "metadata": {},
   "outputs": [],
   "source": [
    "daily_sales_numbers=[21,22,-108,31,-1,32,34,31]"
   ]
  },
  {
   "cell_type": "code",
   "execution_count": 6,
   "id": "2a1579a8",
   "metadata": {},
   "outputs": [
    {
     "data": {
      "text/plain": [
       "<_TensorSliceDataset element_spec=TensorSpec(shape=(), dtype=tf.int32, name=None)>"
      ]
     },
     "execution_count": 6,
     "metadata": {},
     "output_type": "execute_result"
    }
   ],
   "source": [
    "tf_dataset=tf.data.Dataset.from_tensor_slices(daily_sales_numbers)\n",
    "tf_dataset"
   ]
  },
  {
   "cell_type": "code",
   "execution_count": 7,
   "id": "b30a5583",
   "metadata": {},
   "outputs": [
    {
     "name": "stdout",
     "output_type": "stream",
     "text": [
      "tf.Tensor(21, shape=(), dtype=int32)\n",
      "tf.Tensor(22, shape=(), dtype=int32)\n",
      "tf.Tensor(-108, shape=(), dtype=int32)\n",
      "tf.Tensor(31, shape=(), dtype=int32)\n",
      "tf.Tensor(-1, shape=(), dtype=int32)\n",
      "tf.Tensor(32, shape=(), dtype=int32)\n",
      "tf.Tensor(34, shape=(), dtype=int32)\n",
      "tf.Tensor(31, shape=(), dtype=int32)\n"
     ]
    }
   ],
   "source": [
    "for sales in tf_dataset:\n",
    "    print(sales)"
   ]
  },
  {
   "cell_type": "code",
   "execution_count": 8,
   "id": "86496565",
   "metadata": {},
   "outputs": [],
   "source": [
    "#to view we can convert the tensor to numpy"
   ]
  },
  {
   "cell_type": "code",
   "execution_count": 9,
   "id": "3896da45",
   "metadata": {},
   "outputs": [
    {
     "name": "stdout",
     "output_type": "stream",
     "text": [
      "21\n",
      "22\n",
      "-108\n",
      "31\n",
      "-1\n",
      "32\n",
      "34\n",
      "31\n"
     ]
    }
   ],
   "source": [
    "for sales in tf_dataset:\n",
    "    print(sales.numpy())\n",
    "# we are converting the sales tensor datatype\n",
    "#to numpy"
   ]
  },
  {
   "cell_type": "code",
   "execution_count": 10,
   "id": "35f25afd",
   "metadata": {},
   "outputs": [],
   "source": [
    "# We can directly use as_numpy_iterator() to \n",
    "#get the sales in numpy format"
   ]
  },
  {
   "cell_type": "code",
   "execution_count": 12,
   "id": "885b2382",
   "metadata": {},
   "outputs": [
    {
     "name": "stdout",
     "output_type": "stream",
     "text": [
      "21\n",
      "22\n",
      "-108\n",
      "31\n",
      "-1\n",
      "32\n",
      "34\n",
      "31\n"
     ]
    }
   ],
   "source": [
    "for sales in tf_dataset.as_numpy_iterator():\n",
    "    print(sales)"
   ]
  },
  {
   "cell_type": "markdown",
   "id": "a476c366",
   "metadata": {},
   "source": [
    "### filtering of data"
   ]
  },
  {
   "cell_type": "code",
   "execution_count": 15,
   "id": "66efc7d7",
   "metadata": {},
   "outputs": [
    {
     "name": "stdout",
     "output_type": "stream",
     "text": [
      "21\n",
      "22\n",
      "31\n",
      "32\n",
      "34\n",
      "31\n"
     ]
    }
   ],
   "source": [
    "#It is seen that the sales cannit be negative\n",
    "#so we have to filter out data removing negative\n",
    "#values from the data, we can do that in tensor \n",
    "#using filter function.\n",
    "tf_dataset=tf_dataset.filter(lambda x:x>0)\n",
    "for sales in tf_dataset.as_numpy_iterator():\n",
    "    print(sales)"
   ]
  },
  {
   "cell_type": "code",
   "execution_count": 16,
   "id": "4c6a837a",
   "metadata": {},
   "outputs": [
    {
     "name": "stdout",
     "output_type": "stream",
     "text": [
      "1512\n",
      "1584\n",
      "2232\n",
      "2304\n",
      "2448\n",
      "2232\n"
     ]
    }
   ],
   "source": [
    "#Let us consider the above data is in US dollars($),\n",
    "#But we want that in indian rupees, to get that we\n",
    "#will have to multiply each data by 72. This can be \n",
    "#done using map function, where it applies the \n",
    "#specified function to all the datapoints\n",
    "tf_dataset=tf_dataset.map(lambda x:x*72)\n",
    "for sales in tf_dataset.as_numpy_iterator():\n",
    "    print(sales)"
   ]
  },
  {
   "cell_type": "code",
   "execution_count": 17,
   "id": "1cb03413",
   "metadata": {},
   "outputs": [
    {
     "name": "stdout",
     "output_type": "stream",
     "text": [
      "2232\n",
      "1584\n",
      "2304\n",
      "2232\n",
      "1512\n",
      "2448\n"
     ]
    }
   ],
   "source": [
    "#We can use shuffle() methos to shuffle the\n",
    "#datapoints, there is this argument called as buffer \n",
    "#which this function takes this is clearly explained in\n",
    "#the below website\n",
    "#https://stackoverflow.com/questions/53514495/what-does-batch-repeat-and-shuffle-do-with-tensorflow-dataset\n",
    "tf_dataset=tf_dataset.shuffle(3)\n",
    "for sales in tf_dataset.as_numpy_iterator():\n",
    "    print(sales)"
   ]
  },
  {
   "cell_type": "code",
   "execution_count": 19,
   "id": "da28b41a",
   "metadata": {},
   "outputs": [
    {
     "name": "stdout",
     "output_type": "stream",
     "text": [
      "[2232 1512 1584]\n",
      "[2232 2448 2304]\n"
     ]
    }
   ],
   "source": [
    "#we can also do batching using batch()\n",
    "#batching can be used in multi GPU enviromnment\n",
    "#Where you want to distribute different batches to \n",
    "#different environment\n",
    "#It is useful when to get the huge dataset into the \n",
    "#memory in batch wise\n",
    "for sales_batch in tf_dataset.batch(3):\n",
    "    print(sales_batch.numpy())"
   ]
  },
  {
   "cell_type": "code",
   "execution_count": 20,
   "id": "c80600d4",
   "metadata": {},
   "outputs": [
    {
     "name": "stdout",
     "output_type": "stream",
     "text": [
      "[1584 2304]\n",
      "[2448 2232]\n",
      "[2232 1512]\n"
     ]
    }
   ],
   "source": [
    "for sales_batch in tf_dataset.batch(2):\n",
    "    print(sales_batch.numpy())"
   ]
  },
  {
   "cell_type": "code",
   "execution_count": 21,
   "id": "455d0caf",
   "metadata": {},
   "outputs": [
    {
     "name": "stdout",
     "output_type": "stream",
     "text": [
      "[1512 1584 2232 2232]\n",
      "[2304 2448]\n"
     ]
    }
   ],
   "source": [
    "for sales_batch in tf_dataset.batch(4):\n",
    "    print(sales_batch.numpy())"
   ]
  },
  {
   "cell_type": "markdown",
   "id": "d4d920d8",
   "metadata": {},
   "source": [
    "### The above things can be done in one single line as shown below"
   ]
  },
  {
   "cell_type": "code",
   "execution_count": 27,
   "id": "e685fb5b",
   "metadata": {},
   "outputs": [
    {
     "name": "stdout",
     "output_type": "stream",
     "text": [
      "[1512 1584]\n",
      "[2232 2304]\n",
      "[2448 2232]\n"
     ]
    }
   ],
   "source": [
    "tf_dataset2=tf.data.Dataset.from_tensor_slices(daily_sales_numbers)\n",
    "tf_dataset2=tf_dataset2.filter(lambda x:x>0).map(lambda y:y*72).batch(2)\n",
    "for sales in tf_dataset2.as_numpy_iterator():\n",
    "    print(sales)"
   ]
  },
  {
   "cell_type": "code",
   "execution_count": null,
   "id": "7b459e16",
   "metadata": {},
   "outputs": [],
   "source": []
  }
 ],
 "metadata": {
  "kernelspec": {
   "display_name": "Python 3 (ipykernel)",
   "language": "python",
   "name": "python3"
  },
  "language_info": {
   "codemirror_mode": {
    "name": "ipython",
    "version": 3
   },
   "file_extension": ".py",
   "mimetype": "text/x-python",
   "name": "python",
   "nbconvert_exporter": "python",
   "pygments_lexer": "ipython3",
   "version": "3.10.9"
  }
 },
 "nbformat": 4,
 "nbformat_minor": 5
}
